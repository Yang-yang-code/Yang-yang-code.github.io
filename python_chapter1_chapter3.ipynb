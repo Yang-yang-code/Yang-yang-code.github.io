{
 "cells": [
  {
   "cell_type": "markdown",
   "id": "78344e7f",
   "metadata": {},
   "source": [
    "# 一、chapter 2"
   ]
  },
  {
   "cell_type": "markdown",
   "id": "20bcc99f",
   "metadata": {},
   "source": [
    "## 1.变量———变量指向特定的值"
   ]
  },
  {
   "cell_type": "code",
   "execution_count": 1,
   "id": "12d677d3",
   "metadata": {},
   "outputs": [
    {
     "data": {
      "text/plain": [
       "'Hello Python World!'"
      ]
     },
     "execution_count": 1,
     "metadata": {},
     "output_type": "execute_result"
    }
   ],
   "source": [
    "massage = \"Hello Python World!\"\n",
    "massage"
   ]
  },
  {
   "cell_type": "code",
   "execution_count": 2,
   "id": "f38c3ab6",
   "metadata": {},
   "outputs": [
    {
     "name": "stdout",
     "output_type": "stream",
     "text": [
      "Hello Python World!\n"
     ]
    }
   ],
   "source": [
    "print(massage)"
   ]
  },
  {
   "cell_type": "markdown",
   "id": "693e0e5e",
   "metadata": {},
   "source": [
    "## 2.字符串"
   ]
  },
  {
   "cell_type": "markdown",
   "id": "85b97184",
   "metadata": {},
   "source": [
    "### 2.1 修改字符串的大小写"
   ]
  },
  {
   "cell_type": "code",
   "execution_count": 5,
   "id": "0de2530f",
   "metadata": {},
   "outputs": [
    {
     "name": "stdout",
     "output_type": "stream",
     "text": [
      "Ada Lovelace\n"
     ]
    }
   ],
   "source": [
    "name = \"ada lovelace\"\n",
    "print(name.title())\n",
    "# title()方法：首字母大写"
   ]
  },
  {
   "cell_type": "code",
   "execution_count": 8,
   "id": "b0f35f8c",
   "metadata": {},
   "outputs": [
    {
     "name": "stdout",
     "output_type": "stream",
     "text": [
      "ADA LOVELACE\n"
     ]
    }
   ],
   "source": [
    "name = 'Ada Lovelace'\n",
    "print(name.upper())"
   ]
  },
  {
   "cell_type": "code",
   "execution_count": 9,
   "id": "8ef19fc5",
   "metadata": {},
   "outputs": [
    {
     "name": "stdout",
     "output_type": "stream",
     "text": [
      "Ada Lovelace\n"
     ]
    }
   ],
   "source": [
    "print(name)"
   ]
  },
  {
   "cell_type": "code",
   "execution_count": 10,
   "id": "9a654f31",
   "metadata": {},
   "outputs": [
    {
     "name": "stdout",
     "output_type": "stream",
     "text": [
      "ada lovelace\n"
     ]
    }
   ],
   "source": [
    "print(name.lower())"
   ]
  },
  {
   "cell_type": "markdown",
   "id": "928e31b8",
   "metadata": {},
   "source": [
    "### 2.2 在字符串中使用变量"
   ]
  },
  {
   "cell_type": "markdown",
   "id": "4f16a0d5",
   "metadata": {},
   "source": [
    "###### 在字符串插入变量的值，在前引号前加上f字符串，再将要插入的变量放在花括号内"
   ]
  },
  {
   "cell_type": "code",
   "execution_count": 13,
   "id": "0e1a2c12",
   "metadata": {},
   "outputs": [
    {
     "name": "stdout",
     "output_type": "stream",
     "text": [
      "adalovelace\n"
     ]
    }
   ],
   "source": [
    "first_name = \"ada\"\n",
    "last_name = \"lovelace\"\n",
    "full_name = f'{first_name}{last_name}'\n",
    "print(full_name)"
   ]
  },
  {
   "cell_type": "code",
   "execution_count": 15,
   "id": "ab54cc92",
   "metadata": {},
   "outputs": [
    {
     "name": "stdout",
     "output_type": "stream",
     "text": [
      "Hello,Adalovelace\n"
     ]
    }
   ],
   "source": [
    "print(f'Hello,{full_name.title()}')"
   ]
  },
  {
   "cell_type": "code",
   "execution_count": 18,
   "id": "b7b9c65d",
   "metadata": {},
   "outputs": [
    {
     "name": "stdout",
     "output_type": "stream",
     "text": [
      "Hello,adalovelace\n"
     ]
    }
   ],
   "source": [
    "massage = f'Hello,{first_name}{last_name}'\n",
    "print(massage)"
   ]
  },
  {
   "cell_type": "code",
   "execution_count": 21,
   "id": "ccbbcfd5",
   "metadata": {},
   "outputs": [
    {
     "name": "stdout",
     "output_type": "stream",
     "text": [
      "adalovelace\n"
     ]
    }
   ],
   "source": [
    "full_name = \"{}{}\".format(first_name,last_name)\n",
    "print(full_name)\n"
   ]
  },
  {
   "cell_type": "markdown",
   "id": "431367b7",
   "metadata": {},
   "source": [
    "### 2.3 使用制表符或换行符添加空白"
   ]
  },
  {
   "cell_type": "code",
   "execution_count": 22,
   "id": "ba149885",
   "metadata": {},
   "outputs": [
    {
     "name": "stdout",
     "output_type": "stream",
     "text": [
      "Python\n"
     ]
    }
   ],
   "source": [
    "print('Python')"
   ]
  },
  {
   "cell_type": "code",
   "execution_count": 24,
   "id": "4d1c5fd6",
   "metadata": {},
   "outputs": [
    {
     "name": "stdout",
     "output_type": "stream",
     "text": [
      "\tPython \n",
      "Python\n"
     ]
    }
   ],
   "source": [
    "print('\\tPython','\\nPython')"
   ]
  },
  {
   "cell_type": "code",
   "execution_count": 25,
   "id": "ac094040",
   "metadata": {},
   "outputs": [
    {
     "name": "stdout",
     "output_type": "stream",
     "text": [
      "Languages:\n",
      "Python\n",
      "C\n",
      "Java\n"
     ]
    }
   ],
   "source": [
    "print('Languages:\\nPython\\nC\\nJava')"
   ]
  },
  {
   "cell_type": "markdown",
   "id": "27d557a6",
   "metadata": {},
   "source": [
    "###### \\n\\t:换行且在下一行开头添加制表符"
   ]
  },
  {
   "cell_type": "code",
   "execution_count": 26,
   "id": "7e95a07e",
   "metadata": {},
   "outputs": [
    {
     "name": "stdout",
     "output_type": "stream",
     "text": [
      "Languages:\n",
      "\tPython\n",
      "\tC\n",
      "\tJava\n"
     ]
    }
   ],
   "source": [
    "print('Languages:\\n\\tPython\\n\\tC\\n\\tJava')"
   ]
  },
  {
   "cell_type": "markdown",
   "id": "8a513afa",
   "metadata": {},
   "source": [
    "### 2.4 删除空白"
   ]
  },
  {
   "cell_type": "code",
   "execution_count": 27,
   "id": "0b7ca2a4",
   "metadata": {},
   "outputs": [
    {
     "data": {
      "text/plain": [
       "'Python   '"
      ]
     },
     "execution_count": 27,
     "metadata": {},
     "output_type": "execute_result"
    }
   ],
   "source": [
    "favorite_language = 'Python   '\n",
    "favorite_language"
   ]
  },
  {
   "cell_type": "code",
   "execution_count": 29,
   "id": "9ac640df",
   "metadata": {},
   "outputs": [
    {
     "data": {
      "text/plain": [
       "'Python'"
      ]
     },
     "execution_count": 29,
     "metadata": {},
     "output_type": "execute_result"
    }
   ],
   "source": [
    "favorite_language.rstrip()"
   ]
  },
  {
   "cell_type": "code",
   "execution_count": 34,
   "id": "bb195144",
   "metadata": {},
   "outputs": [
    {
     "data": {
      "text/plain": [
       "('Python         ', '     Python         ', 'Python')"
      ]
     },
     "execution_count": 34,
     "metadata": {},
     "output_type": "execute_result"
    }
   ],
   "source": [
    "best_language = '     Python         '\n",
    "best_language.lstrip(),best_language,best_language.strip()"
   ]
  },
  {
   "cell_type": "markdown",
   "id": "34284d81",
   "metadata": {},
   "source": [
    "## 3.数"
   ]
  },
  {
   "cell_type": "markdown",
   "id": "673c0bee",
   "metadata": {},
   "source": [
    "### 3.1 整数"
   ]
  },
  {
   "cell_type": "code",
   "execution_count": 37,
   "id": "204bd8c6",
   "metadata": {},
   "outputs": [
    {
     "data": {
      "text/plain": [
       "(5, 566, 4.0, 3, 64)"
      ]
     },
     "execution_count": 37,
     "metadata": {},
     "output_type": "execute_result"
    }
   ],
   "source": [
    "2+3, 283*2, 8/2, 9-6, 8**2"
   ]
  },
  {
   "cell_type": "code",
   "execution_count": 39,
   "id": "f3b9809a",
   "metadata": {},
   "outputs": [
    {
     "data": {
      "text/plain": [
       "(61, 96)"
      ]
     },
     "execution_count": 39,
     "metadata": {},
     "output_type": "execute_result"
    }
   ],
   "source": [
    "5+7*8, (5+7)*8"
   ]
  },
  {
   "cell_type": "markdown",
   "id": "c7b42916",
   "metadata": {},
   "source": [
    "### 3.2 浮点数"
   ]
  },
  {
   "cell_type": "markdown",
   "id": "bf14d841",
   "metadata": {},
   "source": [
    "###### 带小数点的数称为浮点数， 任意两数相除结果总为浮点数，即使两个数为整数且能整除，只要运算中操作数有浮点数结果为浮点数"
   ]
  },
  {
   "cell_type": "code",
   "execution_count": 43,
   "id": "7e87071b",
   "metadata": {},
   "outputs": [
    {
     "data": {
      "text/plain": [
       "(3.1, 0.39999999999999997, 0.8, 2.0, 27.0)"
      ]
     },
     "execution_count": 43,
     "metadata": {},
     "output_type": "execute_result"
    }
   ],
   "source": [
    "0.1+3, 0.6-0.2, 2*0.4, 4/2,3.0**3"
   ]
  },
  {
   "cell_type": "markdown",
   "id": "95ffaa4c",
   "metadata": {},
   "source": [
    "### 3.3 数中的下划线——用下划线将数字分组，用下划线定义的数其下划线不会被打印出来"
   ]
  },
  {
   "cell_type": "code",
   "execution_count": 45,
   "id": "3cbc136c",
   "metadata": {},
   "outputs": [
    {
     "data": {
      "text/plain": [
       "140012"
      ]
     },
     "execution_count": 45,
     "metadata": {},
     "output_type": "execute_result"
    }
   ],
   "source": [
    "age = 14_00_12\n",
    "age"
   ]
  },
  {
   "cell_type": "code",
   "execution_count": 47,
   "id": "c01b7279",
   "metadata": {},
   "outputs": [
    {
     "data": {
      "text/plain": [
       "(10000, 1400000000)"
      ]
     },
     "execution_count": 47,
     "metadata": {},
     "output_type": "execute_result"
    }
   ],
   "source": [
    "age, num = 10_000, 14_0000_0000\n",
    "age,num"
   ]
  },
  {
   "cell_type": "markdown",
   "id": "4fd66b46",
   "metadata": {},
   "source": [
    "## 4.常量——使用全部大写来表示将某个变量视为常量"
   ]
  },
  {
   "cell_type": "code",
   "execution_count": 49,
   "id": "0722270c",
   "metadata": {},
   "outputs": [
    {
     "data": {
      "text/plain": [
       "5000"
      ]
     },
     "execution_count": 49,
     "metadata": {},
     "output_type": "execute_result"
    }
   ],
   "source": [
    "MAX = 5000\n",
    "MAX"
   ]
  },
  {
   "cell_type": "markdown",
   "id": "9365192f",
   "metadata": {},
   "source": [
    "# 二、chapter3"
   ]
  },
  {
   "cell_type": "markdown",
   "id": "e6337200",
   "metadata": {},
   "source": [
    "## 1.访问列表"
   ]
  },
  {
   "cell_type": "code",
   "execution_count": 72,
   "id": "34f85f61",
   "metadata": {},
   "outputs": [
    {
     "name": "stdout",
     "output_type": "stream",
     "text": [
      "trek ['trek', 'cannondale', 'redline', 'specialized']\n"
     ]
    }
   ],
   "source": [
    "bicycles = ['trek','cannondale','redline','specialized']\n",
    "print(bicycles[0], bicycles)\n",
    "# 直接将列表打印会包括方括号一起输出"
   ]
  },
  {
   "cell_type": "code",
   "execution_count": 73,
   "id": "20978c05",
   "metadata": {},
   "outputs": [
    {
     "name": "stdout",
     "output_type": "stream",
     "text": [
      "Trek\n"
     ]
    }
   ],
   "source": [
    "print(bicycles[0].title())"
   ]
  },
  {
   "cell_type": "markdown",
   "id": "fe6662fe",
   "metadata": {},
   "source": [
    "## 2.索引从0开始"
   ]
  },
  {
   "cell_type": "code",
   "execution_count": 74,
   "id": "316bb111",
   "metadata": {},
   "outputs": [
    {
     "name": "stdout",
     "output_type": "stream",
     "text": [
      "cannondale specialized\n"
     ]
    }
   ],
   "source": [
    "print(bicycles[1], bicycles[3])"
   ]
  },
  {
   "cell_type": "code",
   "execution_count": 75,
   "id": "f2457f17",
   "metadata": {},
   "outputs": [
    {
     "name": "stdout",
     "output_type": "stream",
     "text": [
      "specialized\n"
     ]
    }
   ],
   "source": [
    "print(bicycles[-1])"
   ]
  },
  {
   "cell_type": "code",
   "execution_count": 76,
   "id": "428aa56b",
   "metadata": {},
   "outputs": [
    {
     "name": "stdout",
     "output_type": "stream",
     "text": [
      "My first bicycle was a Trek\n"
     ]
    }
   ],
   "source": [
    "print(f'My first bicycle was a {bicycles[0].title()}')"
   ]
  },
  {
   "cell_type": "markdown",
   "id": "0f35ea44",
   "metadata": {},
   "source": [
    "## 3.修改列表元素"
   ]
  },
  {
   "cell_type": "code",
   "execution_count": 77,
   "id": "3b5ed32e",
   "metadata": {},
   "outputs": [
    {
     "data": {
      "text/plain": [
       "['trek', 'cannondale', 'redline', 'specialized']"
      ]
     },
     "execution_count": 77,
     "metadata": {},
     "output_type": "execute_result"
    }
   ],
   "source": [
    "bicycles\n"
   ]
  },
  {
   "cell_type": "code",
   "execution_count": 78,
   "id": "937b6825",
   "metadata": {},
   "outputs": [
    {
     "name": "stdout",
     "output_type": "stream",
     "text": [
      "['honda', 'cannondale', 'redline', 'specialized']\n"
     ]
    }
   ],
   "source": [
    "bicycles[0] = 'honda'\n",
    "print(bicycles)"
   ]
  },
  {
   "cell_type": "markdown",
   "id": "90f0b9ef",
   "metadata": {},
   "source": [
    "## 4.在列表中添加元素"
   ]
  },
  {
   "cell_type": "markdown",
   "id": "f3196722",
   "metadata": {},
   "source": [
    "### 4.1 在列表末尾添加元素——append()"
   ]
  },
  {
   "cell_type": "code",
   "execution_count": 79,
   "id": "9077c93e",
   "metadata": {},
   "outputs": [
    {
     "name": "stdout",
     "output_type": "stream",
     "text": [
      "['honda', 'cannondale', 'redline', 'specialized', 'ducati']\n"
     ]
    }
   ],
   "source": [
    "bicycles.append('ducati')\n",
    "print(bicycles)"
   ]
  },
  {
   "cell_type": "markdown",
   "id": "6a547920",
   "metadata": {},
   "source": [
    "### 4.2 在列表中插入元素(任何位置）——insert()"
   ]
  },
  {
   "cell_type": "code",
   "execution_count": 80,
   "id": "ff235ae1",
   "metadata": {},
   "outputs": [
    {
     "name": "stdout",
     "output_type": "stream",
     "text": [
      "['ad', 'honda', 'cannondale', 'redline', 'specialized', 'ducati']\n"
     ]
    }
   ],
   "source": [
    "bicycles.insert(0,'ad')\n",
    "print(bicycles)"
   ]
  },
  {
   "cell_type": "code",
   "execution_count": 81,
   "id": "89c18b3c",
   "metadata": {},
   "outputs": [
    {
     "name": "stdout",
     "output_type": "stream",
     "text": [
      "['ad', 'honda', 'cannondale', 'redline', 'ad', 'specialized', 'ducati']\n"
     ]
    }
   ],
   "source": [
    "bicycles.insert(4,'ad')\n",
    "print(bicycles)"
   ]
  },
  {
   "cell_type": "markdown",
   "id": "324da74f",
   "metadata": {},
   "source": [
    "## 5.在列表中删除元素"
   ]
  },
  {
   "cell_type": "markdown",
   "id": "721a8dc3",
   "metadata": {},
   "source": [
    "### 5.1使用del语句删除元素——永久删除任意位置的元素"
   ]
  },
  {
   "cell_type": "code",
   "execution_count": 90,
   "id": "5797d9fb",
   "metadata": {},
   "outputs": [
    {
     "name": "stdout",
     "output_type": "stream",
     "text": [
      "['honda', 'cannondale', 'redline', 'ad', 'specialized', 'ducati']\n"
     ]
    }
   ],
   "source": [
    "bicycles = ['ad', 'honda', 'cannondale', 'redline', 'ad', 'specialized', 'ducati']\n",
    "del bicycles[0]\n",
    "print(bicycles)"
   ]
  },
  {
   "cell_type": "markdown",
   "id": "f95245ab",
   "metadata": {},
   "source": [
    "### 5.2 使用方法pop()删除元素——删除列表末尾(也可任意位置)元素且能接着使用该元素"
   ]
  },
  {
   "cell_type": "code",
   "execution_count": 91,
   "id": "16531195",
   "metadata": {},
   "outputs": [
    {
     "name": "stdout",
     "output_type": "stream",
     "text": [
      "['honda', 'cannondale', 'redline', 'ad', 'specialized'] ducati\n"
     ]
    }
   ],
   "source": [
    "bicycles_poped = bicycles.pop()\n",
    "print(bicycles,bicycles_poped)"
   ]
  },
  {
   "cell_type": "code",
   "execution_count": 93,
   "id": "3efca99c",
   "metadata": {},
   "outputs": [
    {
     "name": "stdout",
     "output_type": "stream",
     "text": [
      "The last bicycle I owned was a ducati\n"
     ]
    }
   ],
   "source": [
    "print(f'The last bicycle I owned was a {bicycles_poped}')"
   ]
  },
  {
   "cell_type": "code",
   "execution_count": 96,
   "id": "f29b4ee0",
   "metadata": {},
   "outputs": [
    {
     "name": "stdout",
     "output_type": "stream",
     "text": [
      "The first bicycle I owned was a cannondale\n"
     ]
    }
   ],
   "source": [
    "bicycles = ['ad', 'honda', 'cannondale', 'redline', 'ad', 'specialized', 'ducati']\n",
    "first_owned = bicycles.pop(2)\n",
    "print(f'The first bicycle I owned was a {first_owned}')"
   ]
  },
  {
   "cell_type": "markdown",
   "id": "6b6c4946",
   "metadata": {},
   "source": [
    "### 5.3根据值删除元素且可以接着使用删除的值"
   ]
  },
  {
   "cell_type": "code",
   "execution_count": 98,
   "id": "a8b94c0c",
   "metadata": {},
   "outputs": [
    {
     "name": "stdout",
     "output_type": "stream",
     "text": [
      "['honda', 'cannondale', 'redline', 'ad', 'specialized', 'ducati']\n"
     ]
    }
   ],
   "source": [
    "bicycles = ['ad', 'honda', 'cannondale', 'redline', 'ad', 'specialized', 'ducati']\n",
    "bicycles.remove('ad')\n",
    "print(bicycles)\n",
    "# remove()只能删除第一个符合的值"
   ]
  },
  {
   "cell_type": "code",
   "execution_count": 99,
   "id": "cfc9b710",
   "metadata": {},
   "outputs": [
    {
     "name": "stdout",
     "output_type": "stream",
     "text": [
      "['honda', 'cannondale', 'ad', 'specialized', 'ducati'] redline\n"
     ]
    }
   ],
   "source": [
    "too_expensive = 'redline'\n",
    "bicycles.remove(too_expensive)\n",
    "print(bicycles, too_expensive)"
   ]
  },
  {
   "cell_type": "markdown",
   "id": "01e4fcba",
   "metadata": {},
   "source": [
    "# 6.排序"
   ]
  },
  {
   "cell_type": "markdown",
   "id": "e86961b6",
   "metadata": {},
   "source": [
    "## 6.1 使用sort()方法对列表永久排序"
   ]
  },
  {
   "cell_type": "code",
   "execution_count": 101,
   "id": "4eb16aaf",
   "metadata": {},
   "outputs": [
    {
     "name": "stdout",
     "output_type": "stream",
     "text": [
      "['audi', 'bnw', 'subaru', 'toyota']\n"
     ]
    }
   ],
   "source": [
    "cars = ['bnw','audi','toyota','subaru']\n",
    "cars.sort()\n",
    "print(cars)"
   ]
  },
  {
   "cell_type": "code",
   "execution_count": 102,
   "id": "163c9654",
   "metadata": {},
   "outputs": [
    {
     "name": "stdout",
     "output_type": "stream",
     "text": [
      "['toyota', 'subaru', 'bnw', 'audi']\n"
     ]
    }
   ],
   "source": [
    "cars.sort(reverse = True)\n",
    "print(cars)"
   ]
  },
  {
   "cell_type": "markdown",
   "id": "3ea363e1",
   "metadata": {},
   "source": [
    "## 6.2 使用sorted()函数对列表临时排序"
   ]
  },
  {
   "cell_type": "code",
   "execution_count": 106,
   "id": "140d7a5a",
   "metadata": {},
   "outputs": [
    {
     "data": {
      "text/plain": [
       "(['audi', 'bnw', 'subaru', 'toyota'], ['toyota', 'subaru', 'bnw', 'audi'])"
      ]
     },
     "execution_count": 106,
     "metadata": {},
     "output_type": "execute_result"
    }
   ],
   "source": [
    "cars = ['bnw','audi','toyota','subaru']\n",
    "sorted(cars), sorted(cars, reverse = True)\n"
   ]
  },
  {
   "cell_type": "code",
   "execution_count": 107,
   "id": "38660ef3",
   "metadata": {},
   "outputs": [
    {
     "data": {
      "text/plain": [
       "['bnw', 'audi', 'toyota', 'subaru']"
      ]
     },
     "execution_count": 107,
     "metadata": {},
     "output_type": "execute_result"
    }
   ],
   "source": [
    "cars"
   ]
  },
  {
   "cell_type": "markdown",
   "id": "bf1312cc",
   "metadata": {},
   "source": [
    "### 6.3 reverse()方法 反序打印列表"
   ]
  },
  {
   "cell_type": "code",
   "execution_count": 111,
   "id": "f5a757ea",
   "metadata": {},
   "outputs": [
    {
     "name": "stdout",
     "output_type": "stream",
     "text": [
      "['subaru', 'toyota', 'audi', 'bnw']\n"
     ]
    }
   ],
   "source": [
    "print(cars)"
   ]
  },
  {
   "cell_type": "code",
   "execution_count": 114,
   "id": "d5778211",
   "metadata": {},
   "outputs": [
    {
     "data": {
      "text/plain": [
       "['bnw', 'audi', 'toyota', 'subaru']"
      ]
     },
     "execution_count": 114,
     "metadata": {},
     "output_type": "execute_result"
    }
   ],
   "source": [
    "cars.reverse()\n",
    "cars"
   ]
  },
  {
   "cell_type": "code",
   "execution_count": 116,
   "id": "10fe8e56",
   "metadata": {},
   "outputs": [
    {
     "data": {
      "text/plain": [
       "['subaru', 'toyota', 'audi', 'bnw']"
      ]
     },
     "execution_count": 116,
     "metadata": {},
     "output_type": "execute_result"
    }
   ],
   "source": [
    "cars.reverse()\n",
    "cars"
   ]
  },
  {
   "cell_type": "markdown",
   "id": "28a0e159",
   "metadata": {},
   "source": [
    "## 7.确定列表长度——len()"
   ]
  },
  {
   "cell_type": "code",
   "execution_count": 117,
   "id": "b1eff1c1",
   "metadata": {},
   "outputs": [
    {
     "data": {
      "text/plain": [
       "4"
      ]
     },
     "execution_count": 117,
     "metadata": {},
     "output_type": "execute_result"
    }
   ],
   "source": [
    "len(cars)"
   ]
  },
  {
   "cell_type": "code",
   "execution_count": null,
   "id": "d6970540",
   "metadata": {},
   "outputs": [],
   "source": []
  }
 ],
 "metadata": {
  "kernelspec": {
   "display_name": "Python 3 (ipykernel)",
   "language": "python",
   "name": "python3"
  },
  "language_info": {
   "codemirror_mode": {
    "name": "ipython",
    "version": 3
   },
   "file_extension": ".py",
   "mimetype": "text/x-python",
   "name": "python",
   "nbconvert_exporter": "python",
   "pygments_lexer": "ipython3",
   "version": "3.8.8"
  }
 },
 "nbformat": 4,
 "nbformat_minor": 5
}
